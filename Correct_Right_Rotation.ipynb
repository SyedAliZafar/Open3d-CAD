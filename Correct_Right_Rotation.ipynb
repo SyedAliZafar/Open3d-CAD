{
 "cells": [
  {
   "cell_type": "code",
   "execution_count": null,
   "id": "f69e6071",
   "metadata": {},
   "outputs": [],
   "source": [
    "# rotate a pointcloud in z axis\n",
    "# \n",
    "import open3d\n",
    "import open3d as o3d \n",
    "import numpy as np \n",
    "\n",
    "#xyz = o3d.io.read_point_cloud(\"../Co-ordinate_ply_file/rabbit/bunny/data/bun000.ply\")\n",
    "\n",
    "xyz = open3d.io.read_triangle_mesh(\"FW75735_jt.ply\")\n",
    "R = xyz.get_rotation_matrix_from_yxz((0.5 * np.pi, -1.6, 0.5 * np.pi))\n",
    "xyz = xyz.rotate(R, center=(0,0,0))\n",
    "\n",
    "\n",
    "vis = open3d.visualization.VisualizerWithEditing()\n",
    "vis.create_window()\n",
    "vis.add_geometry(xyz)\n",
    "vis.run()\n",
    "# Picked point #84 (-0.00, 0.01, 0.01) to add in queue.\n",
    "# Picked point #119 (0.00, 0.00, -0.00) to add in queue.\n",
    "# Picked point #69 (-0.01, 0.02, 0.01) to add in queue.\n",
    "vis.destroy_window()\n",
    "print(vis.get_picked_points()) #[84, 119, 69]"
   ]
  },
  {
   "cell_type": "code",
   "execution_count": null,
   "id": "a5e354e8",
   "metadata": {},
   "outputs": [],
   "source": [
    "### Not Rotated\n",
    "import open3d\n",
    "import open3d as o3d \n",
    "import numpy as np \n",
    "a = open3d.io.read_point_cloud(r\"FW75735_jt.ply\")\n",
    "# Visualize cloud and edit\n",
    "vis = open3d.visualization.VisualizerWithEditing()\n",
    "vis.create_window()\n",
    "vis.add_geometry(a)\n",
    "vis.run()\n",
    "vis.destroy_window()\n",
    "print(vis.get_picked_points()) #[84, 119, 69]"
   ]
  },
  {
   "cell_type": "code",
   "execution_count": null,
   "id": "21209dcd",
   "metadata": {},
   "outputs": [],
   "source": [
    "# rotate a pointcloud in z axis\n",
    "# \n",
    "import open3d\n",
    "import open3d as o3d \n",
    "import numpy as np \n",
    "\n",
    "#xyz = o3d.io.read_point_cloud(\"../Co-ordinate_ply_file/rabbit/bunny/data/bun000.ply\")\n",
    "\n",
    "xyz = open3d.io.read_point_cloud(\"FW75735_jt.ply\")\n",
    "R = xyz.get_rotation_matrix_from_yxz((0.5 * np.pi, -1.6, 0.5 * np.pi))\n",
    "xyz = xyz.rotate(R, center=(0,0,0))\n",
    "\n",
    "\n",
    "vis = open3d.visualization.VisualizerWithEditing()\n",
    "vis.create_window()\n",
    "vis.add_geometry(xyz)\n",
    "vis.run()\n",
    "# Picked point #84 (-0.00, 0.01, 0.01) to add in queue.\n",
    "# Picked point #119 (0.00, 0.00, -0.00) to add in queue.\n",
    "# Picked point #69 (-0.01, 0.02, 0.01) to add in queue.\n",
    "vis.destroy_window()\n",
    "print(vis.get_picked_points()) #[84, 119, 69]"
   ]
  },
  {
   "cell_type": "code",
   "execution_count": null,
   "id": "02b45d86",
   "metadata": {},
   "outputs": [],
   "source": []
  },
  {
   "cell_type": "code",
   "execution_count": null,
   "id": "a28448cc",
   "metadata": {},
   "outputs": [],
   "source": []
  },
  {
   "cell_type": "code",
   "execution_count": null,
   "id": "b0ee2868",
   "metadata": {},
   "outputs": [],
   "source": [
    "################### Point cloud get reference point #############################\n",
    "\n",
    "## Link: https://stackoverflow.com/questions/56183844/how-can-we-pick-3d-points-from-point-cloud-data-from-a-pcd-file-using-python\n",
    "\n",
    "\n",
    "\n",
    "import open3d\n",
    "a = open3d.io.read_triangle_mesh(\"FW75735_jt.ply\")\n",
    "# Visualize cloud and edit\n",
    "vis = open3d.visualization.VisualizerWithEditing()\n",
    "vis.create_window()\n",
    "vis.add_geometry(a)\n",
    "vis.run()\n",
    "# Picked point #84 (-0.00, 0.01, 0.01) to add in queue.\n",
    "# Picked point #119 (0.00, 0.00, -0.00) to add in queue.\n",
    "# Picked point #69 (-0.01, 0.02, 0.01) to add in queue.\n",
    "vis.destroy_window()\n",
    "print(vis.get_picked_points()) #[84, 119, 69]"
   ]
  },
  {
   "cell_type": "code",
   "execution_count": null,
   "id": "aa4b334a",
   "metadata": {},
   "outputs": [],
   "source": [
    "################### Point cloud get reference point #############################\n",
    "\n",
    "## Link: https://stackoverflow.com/questions/56183844/how-can-we-pick-3d-points-from-point-cloud-data-from-a-pcd-file-using-python\n",
    "\n",
    "\n",
    "\n",
    "# rotate a pointcloud in z axis\n",
    "# \n",
    "import open3d\n",
    "import open3d as o3d \n",
    "import numpy as np \n",
    "\n",
    "#xyz = o3d.io.read_point_cloud(\"../Co-ordinate_ply_file/rabbit/bunny/data/bun000.ply\")\n",
    "\n",
    "xyz = open3d.io.read_point_cloud(\"FW75735_jt.ply\")\n",
    "R = xyz.get_rotation_matrix_from_yxz((0.5 * np.pi, -1.6, 0.5 * np.pi))\n",
    "xyz = xyz.rotate(R, center=(0,0,0))\n",
    "\n",
    "\n",
    "vis = open3d.visualization.VisualizerWithEditing()\n",
    "vis.create_window()\n",
    "vis.add_geometry(xyz)\n",
    "vis.run()\n",
    "# Picked point #84 (-0.00, 0.01, 0.01) to add in queue.\n",
    "# Picked point #119 (0.00, 0.00, -0.00) to add in queue.\n",
    "# Picked point #69 (-0.01, 0.02, 0.01) to add in queue.\n",
    "vis.destroy_window()\n",
    "print(vis.get_picked_points()) #[84, 119, 69]"
   ]
  },
  {
   "cell_type": "code",
   "execution_count": null,
   "id": "5f9e1b02",
   "metadata": {},
   "outputs": [],
   "source": [
    "################### Point cloud get reference point #############################\n",
    "\n",
    "## Link: https://stackoverflow.com/questions/56183844/how-can-we-pick-3d-points-from-point-cloud-data-from-a-pcd-file-using-python\n",
    "\n",
    "\n",
    "\n",
    "# rotate a pointcloud in z axis\n",
    "# \n",
    "import open3d\n",
    "import open3d as o3d \n",
    "import numpy as np \n",
    "\n",
    "#xyz = o3d.io.read_point_cloud(\"../Co-ordinate_ply_file/rabbit/bunny/data/bun000.ply\")\n",
    "\n",
    "xyz = open3d.io.read_triangle_mesh(\"FW75735_jt.ply\")\n",
    "R = xyz.get_rotation_matrix_from_yxz((0.5 * np.pi, -1.6, 0.5 * np.pi))\n",
    "xyz = xyz.rotate(R, center=(0,0,0))\n",
    "\n",
    "\n",
    "vis = open3d.visualization.VisualizerWithEditing()\n",
    "vis.create_window()\n",
    "vis.add_geometry(xyz)\n",
    "vis.run()\n",
    "# Picked point #84 (-0.00, 0.01, 0.01) to add in queue.\n",
    "# Picked point #119 (0.00, 0.00, -0.00) to add in queue.\n",
    "# Picked point #69 (-0.01, 0.02, 0.01) to add in queue.\n",
    "vis.destroy_window()\n",
    "print(vis.get_picked_points()) #[84, 119, 69]"
   ]
  },
  {
   "cell_type": "code",
   "execution_count": null,
   "id": "4643a927",
   "metadata": {},
   "outputs": [],
   "source": [
    "################### Point cloud get reference point #############################\n",
    "\n",
    "## Link: https://stackoverflow.com/questions/56183844/how-can-we-pick-3d-points-from-point-cloud-data-from-a-pcd-file-using-python\n",
    "\n",
    "\n",
    "\n",
    "# rotate a pointcloud in z axis\n",
    "# \n",
    "import open3d\n",
    "import open3d as o3d \n",
    "import numpy as np \n",
    "\n",
    "#xyz = o3d.io.read_point_cloud(\"../Co-ordinate_ply_file/rabbit/bunny/data/bun000.ply\")\n",
    "\n",
    "xyz = open3d.io.read_point_cloud(\"FW75735_jt.ply\")\n",
    "R = xyz.get_rotation_matrix_from_yxz((0.5 * np.pi, -1.6, 0.5 * np.pi))\n",
    "xyz = xyz.rotate(R, center=(0,0,0))\n",
    "\n",
    "\n",
    "vis = open3d.visualization.VisualizerWithEditing()\n",
    "vis.create_window()\n",
    "vis.add_geometry(xyz)\n",
    "vis.run()\n",
    "# Picked point #84 (-0.00, 0.01, 0.01) to add in queue.\n",
    "# Picked point #119 (0.00, 0.00, -0.00) to add in queue.\n",
    "# Picked point #69 (-0.01, 0.02, 0.01) to add in queue.\n",
    "vis.destroy_window()\n",
    "print(vis.get_picked_points()) #[84, 119, 69]"
   ]
  },
  {
   "cell_type": "code",
   "execution_count": 4,
   "id": "45e4d549",
   "metadata": {},
   "outputs": [
    {
     "name": "stdout",
     "output_type": "stream",
     "text": [
      "[]\n"
     ]
    }
   ],
   "source": [
    "\n",
    "################### Point cloud get reference point #############################\n",
    "\n",
    "## Link: https://stackoverflow.com/questions/56183844/how-can-we-pick-3d-points-from-point-cloud-data-from-a-pcd-file-using-python\n",
    "\n",
    "\n",
    "\n",
    "# rotate a pointcloud in z axis\n",
    "# \n",
    "import open3d\n",
    "import open3d as o3d \n",
    "import numpy as np \n",
    "\n",
    "#xyz = o3d.io.read_point_cloud(\"../Co-ordinate_ply_file/rabbit/bunny/data/bun000.ply\")\n",
    "\n",
    "xyz = open3d.io.read_point_cloud(\"FW75735_jt.ply\")\n",
    "R = xyz.get_rotation_matrix_from_xyz((0.5 * np.pi, -3.1, 0.05 * np.pi))\n",
    "xyz = xyz.rotate(R, center=(0,0,0))\n",
    "\n",
    "\n",
    "vis = open3d.visualization.VisualizerWithEditing()\n",
    "vis.create_window()\n",
    "vis.add_geometry(xyz)\n",
    "vis.run()\n",
    "# Picked point #84 (-0.00, 0.01, 0.01) to add in queue.\n",
    "# Picked point #119 (0.00, 0.00, -0.00) to add in queue.\n",
    "# Picked point #69 (-0.01, 0.02, 0.01) to add in queue.\n",
    "vis.destroy_window()\n",
    "print(vis.get_picked_points()) #[84, 119, 69]"
   ]
  },
  {
   "cell_type": "code",
   "execution_count": 5,
   "id": "ff5422d7",
   "metadata": {},
   "outputs": [
    {
     "name": "stdout",
     "output_type": "stream",
     "text": [
      "[]\n"
     ]
    }
   ],
   "source": [
    "\n",
    "################### Point cloud get reference point #############################\n",
    "\n",
    "## Link: https://stackoverflow.com/questions/56183844/how-can-we-pick-3d-points-from-point-cloud-data-from-a-pcd-file-using-python\n",
    "\n",
    "# perfect setting\n",
    "\n",
    "# rotate a pointcloud in z axis\n",
    "# \n",
    "import open3d\n",
    "import open3d as o3d \n",
    "import numpy as np \n",
    "\n",
    "xyz = o3d.io.read_point_cloud(\"../Co-ordinate_ply_file/rabbit/bunny/data/bun000.ply\")\n",
    "\n",
    "#xyz = open3d.io.read_triangle_mesh(r\"D:\\Image_processing\\Co-ordinate_ply_file\\rabbit\\bunny\\data\\bun000.ply\")\n",
    "#R = xyz.get_rotation_matrix_from_xyz((0.5 * np.pi, -3.1, 0.01 * np.pi))\n",
    "\n",
    "#R = xyz.get_rotation_matrix_from_xyz((-86.19, -3.1, 0.2))\n",
    "R = xyz.get_rotation_matrix_from_xyz((1.7, -3.11, 0.1))\n",
    "xyz = xyz.rotate(R, center=(0,0,0))\n",
    "\n",
    "\n",
    "vis = open3d.visualization.VisualizerWithEditing()\n",
    "vis.create_window()\n",
    "vis.add_geometry(xyz)\n",
    "vis.run()\n",
    "# Picked point #84 (-0.00, 0.01, 0.01) to add in queue.\n",
    "# Picked point #119 (0.00, 0.00, -0.00) to add in queue.\n",
    "# Picked point #69 (-0.01, 0.02, 0.01) to add in queue.\n",
    "vis.destroy_window()\n",
    "print(vis.get_picked_points()) #[84, 119, 69]"
   ]
  },
  {
   "cell_type": "code",
   "execution_count": null,
   "id": "3ce03a67",
   "metadata": {},
   "outputs": [],
   "source": [
    "read_triangle_model"
   ]
  },
  {
   "cell_type": "code",
   "execution_count": 6,
   "id": "3a9c29fd",
   "metadata": {},
   "outputs": [
    {
     "name": "stdout",
     "output_type": "stream",
     "text": [
      "[Open3D WARNING] Unable to load file ../Co-ordinate_ply_file/rabbit/bunny/data/bun000.ply with ASSIMP\n"
     ]
    },
    {
     "ename": "TypeError",
     "evalue": "add_geometry(): incompatible function arguments. The following argument types are supported:\n    1. (self: open3d.cpu.pybind.visualization.Visualizer, geometry: open3d.cpu.pybind.geometry.Geometry, reset_bounding_box: bool = True) -> bool\n\nInvoked with: VisualizerWithEditing with name Open3D, <open3d.cpu.pybind.visualization.rendering.TriangleMeshModel object at 0x0000028D65F8AD70>",
     "output_type": "error",
     "traceback": [
      "\u001b[1;31m---------------------------------------------------------------------------\u001b[0m",
      "\u001b[1;31mTypeError\u001b[0m                                 Traceback (most recent call last)",
      "\u001b[1;32m~\\AppData\\Local\\Temp\\ipykernel_33184\\2101772194.py\u001b[0m in \u001b[0;36m<module>\u001b[1;34m\u001b[0m\n\u001b[0;32m     16\u001b[0m \u001b[0mvis\u001b[0m \u001b[1;33m=\u001b[0m \u001b[0mopen3d\u001b[0m\u001b[1;33m.\u001b[0m\u001b[0mvisualization\u001b[0m\u001b[1;33m.\u001b[0m\u001b[0mVisualizerWithEditing\u001b[0m\u001b[1;33m(\u001b[0m\u001b[1;33m)\u001b[0m\u001b[1;33m\u001b[0m\u001b[1;33m\u001b[0m\u001b[0m\n\u001b[0;32m     17\u001b[0m \u001b[0mvis\u001b[0m\u001b[1;33m.\u001b[0m\u001b[0mcreate_window\u001b[0m\u001b[1;33m(\u001b[0m\u001b[1;33m)\u001b[0m\u001b[1;33m\u001b[0m\u001b[1;33m\u001b[0m\u001b[0m\n\u001b[1;32m---> 18\u001b[1;33m \u001b[0mvis\u001b[0m\u001b[1;33m.\u001b[0m\u001b[0madd_geometry\u001b[0m\u001b[1;33m(\u001b[0m\u001b[0mxyz\u001b[0m\u001b[1;33m)\u001b[0m\u001b[1;33m\u001b[0m\u001b[1;33m\u001b[0m\u001b[0m\n\u001b[0m\u001b[0;32m     19\u001b[0m \u001b[0mvis\u001b[0m\u001b[1;33m.\u001b[0m\u001b[0mrun\u001b[0m\u001b[1;33m(\u001b[0m\u001b[1;33m)\u001b[0m\u001b[1;33m\u001b[0m\u001b[1;33m\u001b[0m\u001b[0m\n\u001b[0;32m     20\u001b[0m \u001b[1;31m# Picked point #84 (-0.00, 0.01, 0.01) to add in queue.\u001b[0m\u001b[1;33m\u001b[0m\u001b[1;33m\u001b[0m\u001b[1;33m\u001b[0m\u001b[0m\n",
      "\u001b[1;31mTypeError\u001b[0m: add_geometry(): incompatible function arguments. The following argument types are supported:\n    1. (self: open3d.cpu.pybind.visualization.Visualizer, geometry: open3d.cpu.pybind.geometry.Geometry, reset_bounding_box: bool = True) -> bool\n\nInvoked with: VisualizerWithEditing with name Open3D, <open3d.cpu.pybind.visualization.rendering.TriangleMeshModel object at 0x0000028D65F8AD70>"
     ]
    }
   ],
   "source": [
    "\n",
    "################### Point cloud get reference point #############################\n",
    "\n",
    "## Link: https://stackoverflow.com/questions/56183844/how-can-we-pick-3d-points-from-point-cloud-data-from-a-pcd-file-using-python\n",
    "\n",
    "# perfect setting\n",
    "\n",
    "# rotate a pointcloud in z axis\n",
    "# \n",
    "import open3d\n",
    "import open3d as o3d \n",
    "import numpy as np \n",
    "\n",
    "xyz = o3d.io.read_triangle_model(r\"../Co-ordinate_ply_file/rabbit/bunny/data/bun000.ply\")\n",
    "\n",
    "\n",
    "vis = open3d.visualization.VisualizerWithEditing()\n",
    "vis.create_window()\n",
    "vis.add_geometry(xyz)\n",
    "vis.run()\n",
    "# Picked point #84 (-0.00, 0.01, 0.01) to add in queue.\n",
    "# Picked point #119 (0.00, 0.00, -0.00) to add in queue.\n",
    "# Picked point #69 (-0.01, 0.02, 0.01) to add in queue.\n",
    "vis.destroy_window()\n",
    "print(vis.get_picked_points()) #[84, 119, 69]"
   ]
  },
  {
   "cell_type": "code",
   "execution_count": null,
   "id": "4f39067a",
   "metadata": {},
   "outputs": [],
   "source": [
    "pcd = o3d.io.read_point_cloud(\"../../test_data/fragment.ply\")\n",
    "o3d.visualization.draw_geometries([pcd],\n",
    "                                  zoom=0.3412,\n",
    "                                  front=[0.4257, -0.2125, -0.8795],\n",
    "                                  lookat=[2.6172, 2.0475, 1.532],\n",
    "                                  up=[-0.0694, -0.9768, 0.2024])"
   ]
  }
 ],
 "metadata": {
  "kernelspec": {
   "display_name": "Python 3",
   "language": "python",
   "name": "python3"
  },
  "language_info": {
   "codemirror_mode": {
    "name": "ipython",
    "version": 3
   },
   "file_extension": ".py",
   "mimetype": "text/x-python",
   "name": "python",
   "nbconvert_exporter": "python",
   "pygments_lexer": "ipython3",
   "version": "3.7.13"
  }
 },
 "nbformat": 4,
 "nbformat_minor": 5
}
