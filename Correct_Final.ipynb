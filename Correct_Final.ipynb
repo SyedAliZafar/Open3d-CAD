{
 "cells": [
  {
   "cell_type": "code",
   "execution_count": null,
   "id": "e35cd0b7",
   "metadata": {},
   "outputs": [],
   "source": []
  },
  {
   "cell_type": "code",
   "execution_count": null,
   "id": "2c3bca46",
   "metadata": {},
   "outputs": [],
   "source": [
    "\n",
    "################### Point cloud get reference point #############################\n",
    "\n",
    "## Link: https://stackoverflow.com/questions/56183844/how-can-we-pick-3d-points-from-point-cloud-data-from-a-pcd-file-using-python\n",
    "\n",
    "# perfect setting\n",
    "\n",
    "# rotate a pointcloud in z axis\n",
    "# \n",
    "import open3d\n",
    "import open3d as o3d \n",
    "import numpy as np \n",
    "\n",
    "#xyz = o3d.io.read_point_cloud(\"../Co-ordinate_ply_file/rabbit/bunny/data/bun000.ply\")\n",
    "\n",
    "xyz = open3d.io.read_point_cloud(\"FW75735_jt.ply\")\n",
    "#R = xyz.get_rotation_matrix_from_xyz((0.5 * np.pi, -3.1, 0.01 * np.pi))\n",
    "\n",
    "vis = open3d.visualization.VisualizerWithEditing()\n",
    "vis.create_window()\n",
    "vis.add_geometry(xyz)\n",
    "vis.run()\n",
    "# Picked point #84 (-0.00, 0.01, 0.01) to add in queue.\n",
    "# Picked point #119 (0.00, 0.00, -0.00) to add in queue.\n",
    "# Picked point #69 (-0.01, 0.02, 0.01) to add in queue.\n",
    "vis.destroy_window()\n",
    "print(vis.get_picked_points()) #[84, 119, 69]"
   ]
  },
  {
   "cell_type": "code",
   "execution_count": null,
   "id": "cc6a0465",
   "metadata": {},
   "outputs": [],
   "source": [
    "\n",
    "################### Point cloud get reference point #############################\n",
    "\n",
    "## Link: https://stackoverflow.com/questions/56183844/how-can-we-pick-3d-points-from-point-cloud-data-from-a-pcd-file-using-python\n",
    "\n",
    "# perfect setting\n",
    "\n",
    "# rotate a pointcloud in z axis\n",
    "# \n",
    "import open3d\n",
    "import open3d as o3d \n",
    "import numpy as np \n",
    "\n",
    "#xyz = o3d.io.read_point_cloud(\"../Co-ordinate_ply_file/rabbit/bunny/data/bun000.ply\")\n",
    "\n",
    "xyz = open3d.io.read_triangle_mesh(\"FW75735_jt.ply\")\n",
    "#R = xyz.get_rotation_matrix_from_xyz((0.5 * np.pi, -3.1, 0.01 * np.pi))\n",
    "\n",
    "#R = xyz.get_rotation_matrix_from_xyz((-86.19, -3.1, 0.2))\n",
    "R = xyz.get_rotation_matrix_from_xyz((1.7, -3.11, 0.1))\n",
    "xyz = xyz.rotate(R, center=(0,0,0))\n",
    "\n",
    "\n",
    "vis = open3d.visualization.VisualizerWithEditing()\n",
    "vis.create_window()\n",
    "vis.add_geometry(xyz)\n",
    "vis.run()\n",
    "# Picked point #84 (-0.00, 0.01, 0.01) to add in queue.\n",
    "# Picked point #119 (0.00, 0.00, -0.00) to add in queue.\n",
    "# Picked point #69 (-0.01, 0.02, 0.01) to add in queue.\n",
    "vis.destroy_window()\n",
    "print(vis.get_picked_points()) #[84, 119, 69]"
   ]
  },
  {
   "cell_type": "code",
   "execution_count": null,
   "id": "1d3c6d89",
   "metadata": {},
   "outputs": [],
   "source": [
    "\n",
    "################### Point cloud get reference point #############################\n",
    "\n",
    "xyz = open3d.io.read_point_cloud(\"FW75735_jt.ply\")\n",
    "#R = xyz.get_rotation_matrix_from_xyz((0.5 * np.pi, -3.1, 0.01 * np.pi))\n",
    "\n",
    "#R = xyz.get_rotation_matrix_from_xyz((1.79, -3.09, 0.01))\n",
    "R = xyz.get_rotation_matrix_from_xyz((1.7, -3.11, 0.1))\n",
    "xyz = xyz.rotate(R, center=(0,0,0))\n",
    "\n",
    "vis = open3d.visualization.VisualizerWithEditing()\n",
    "vis.create_window()\n",
    "vis.add_geometry(xyz)\n",
    "vis.run()\n",
    "vis.destroy_window()\n",
    "print(vis.get_picked_points()) #[84, 119, 69]"
   ]
  },
  {
   "cell_type": "code",
   "execution_count": null,
   "id": "f2d302f3",
   "metadata": {},
   "outputs": [],
   "source": []
  },
  {
   "cell_type": "code",
   "execution_count": null,
   "id": "2eb070e6",
   "metadata": {},
   "outputs": [],
   "source": []
  },
  {
   "cell_type": "code",
   "execution_count": null,
   "id": "4d90f18c",
   "metadata": {},
   "outputs": [],
   "source": [
    "import open3d as o3d\n",
    "\n",
    "if __name__ == \"__main__\":\n",
    "    knot_data = o3d.data.KnotMesh()\n",
    "    #print(f\"Reading mesh from file: knot.ply stored at {knot_data.path}\")\n",
    "    mesh = o3d.io.read_triangle_mesh(\"KnotMesh.ply\")\n",
    "    print(mesh)\n",
    "    print(\"Saving mesh to file: copy_of_knot.ply\")\n",
    "    #o3d.io.write_triangle_mesh(\"copy_of_knot.ply\", mesh)\n",
    "    vis = open3d.visualization.VisualizerWithEditing()\n",
    "    vis.create_window()\n",
    "    vis.add_geometry(mesh)\n",
    "    vis.run()\n",
    "    vis.destroy_window()\n",
    "    print(vis.get_picked_points()) #[84, 119, 69]"
   ]
  },
  {
   "cell_type": "code",
   "execution_count": null,
   "id": "51e4facb",
   "metadata": {},
   "outputs": [],
   "source": [
    "import open3d as o3d\n",
    "\n",
    "if __name__ == \"__main__\":\n",
    "    knot_data = o3d.data.KnotMesh()\n",
    "    #print(f\"Reading mesh from file: knot.ply stored at {knot_data.path}\")\n",
    "    mesh = o3d.io.read_triangle_mesh(\"FW75735_jt.ply\")\n",
    "    print(mesh)\n",
    "    print(\"Saving mesh to file: copy_of_knot.ply\")\n",
    "\n",
    "    print(\"Try to render a mesh with normals (exist: \" +\n",
    "          str(mesh.has_vertex_normals()) + \") and colors (exist: \" +\n",
    "          str(mesh.has_vertex_colors()) + \")\")\n",
    "    #o3d.visualization.draw_geometries([mesh])\n",
    "    print(\"A mesh with no normals and no colors does not look good.\")\n",
    "    print(\"Computing normal and rendering it.\")\n",
    "    mesh.compute_vertex_normals()\n",
    "    print(np.asarray(mesh.triangle_normals))\n",
    "    o3d.visualization.draw_geometries([mesh])\n",
    "    "
   ]
  },
  {
   "cell_type": "code",
   "execution_count": null,
   "id": "b3b2e322",
   "metadata": {},
   "outputs": [],
   "source": [
    "import open3d as o3d\n",
    "\n",
    "if __name__ == \"__main__\":\n",
    "    knot_data = o3d.data.KnotMesh()\n",
    "    #print(f\"Reading mesh from file: knot.ply stored at {knot_data.path}\")\n",
    "    mesh = o3d.io.read_triangle_mesh(\"FW75735_jt.ply\")\n",
    "    mesh.compute_vertex_normals()\n",
    "    vis = open3d.visualization.VisualizerWithEditing()\n",
    "    vis.create_window()\n",
    "    vis.add_geometry(mesh)\n",
    "    vis.run()\n",
    "    vis.destroy_window()\n",
    "    print(vis.get_picked_points())"
   ]
  },
  {
   "cell_type": "code",
   "execution_count": null,
   "id": "02dacd46",
   "metadata": {},
   "outputs": [],
   "source": [
    "pcd = o3d.io.read_point_cloud(\"FW75735_jt.ply\")\n",
    "o3d.visualization.draw_geometries([pcd],\n",
    "                                  zoom=0.9,\n",
    "                                  front=[0.4257, -0.2125, -0.8795],\n",
    "                                  lookat=[2.6172, 2.0475, 1.532],\n",
    "                                  up=[-0.0694, -0.9768, 0.2024])"
   ]
  },
  {
   "cell_type": "code",
   "execution_count": null,
   "id": "5387874f",
   "metadata": {},
   "outputs": [],
   "source": [
    "mesh_array = np.asarray(pcd.points)\n",
    "points = mesh_array[vis.get_picked_points()]"
   ]
  },
  {
   "cell_type": "code",
   "execution_count": null,
   "id": "ac278607",
   "metadata": {},
   "outputs": [],
   "source": [
    "\n",
    "\n"
   ]
  },
  {
   "cell_type": "code",
   "execution_count": null,
   "id": "8c104a0d",
   "metadata": {},
   "outputs": [],
   "source": []
  },
  {
   "cell_type": "code",
   "execution_count": null,
   "id": "34866614",
   "metadata": {},
   "outputs": [],
   "source": [
    "#######################\n",
    "mesh = o3d.io.read_triangle_mesh(\"FW75735_jt.ply\")\n",
    "mesh.compute_vertex_normals()\n",
    "vis = open3d.visualization.VisualizerWithEditing()\n",
    "vis.create_window()\n",
    "vis.add_geometry(mesh)\n",
    "vis.run()\n",
    "vis.destroy_window()\n",
    "print(vis.get_picked_points())\n",
    "#return vis.get_picked_points()"
   ]
  },
  {
   "cell_type": "code",
   "execution_count": null,
   "id": "0110a5d3",
   "metadata": {},
   "outputs": [],
   "source": []
  },
  {
   "cell_type": "code",
   "execution_count": null,
   "id": "324376d6",
   "metadata": {},
   "outputs": [],
   "source": [
    "def draw_geometries_pick_points(geometries):\n",
    "    vis = open3d.visualization.VisualizerWithEditing()\n",
    "    vis.create_window()\n",
    "    for geometry in geometries:\n",
    "        vis.add_geometry(geometry)\n",
    "        vis.run()\n",
    "    vis.destroy_window()"
   ]
  },
  {
   "cell_type": "code",
   "execution_count": null,
   "id": "9770734b",
   "metadata": {},
   "outputs": [],
   "source": [
    "mesh = o3d.io.read_triangle_mesh(\"FW75735_jt.ply\")\n",
    "mesh.compute_vertex_normals()\n",
    "draw_geometries_pick_points(mesh)"
   ]
  },
  {
   "cell_type": "code",
   "execution_count": null,
   "id": "c506e819",
   "metadata": {},
   "outputs": [],
   "source": []
  }
 ],
 "metadata": {
  "kernelspec": {
   "display_name": "Python 3",
   "language": "python",
   "name": "python3"
  },
  "language_info": {
   "codemirror_mode": {
    "name": "ipython",
    "version": 3
   },
   "file_extension": ".py",
   "mimetype": "text/x-python",
   "name": "python",
   "nbconvert_exporter": "python",
   "pygments_lexer": "ipython3",
   "version": "3.7.13"
  }
 },
 "nbformat": 4,
 "nbformat_minor": 5
}
