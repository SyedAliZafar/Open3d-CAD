{
 "cells": [
  {
   "cell_type": "code",
   "execution_count": null,
   "id": "e10f0c13",
   "metadata": {},
   "outputs": [],
   "source": []
  },
  {
   "cell_type": "code",
   "execution_count": null,
   "id": "26340bff",
   "metadata": {},
   "outputs": [],
   "source": []
  },
  {
   "cell_type": "code",
   "execution_count": null,
   "id": "17ee5e20",
   "metadata": {},
   "outputs": [],
   "source": [
    "# https://stackoverflow.com/questions/65581304/rotate-a-pointcloud-in-z-axis"
   ]
  },
  {
   "cell_type": "code",
   "execution_count": 9,
   "id": "cc364cd9",
   "metadata": {},
   "outputs": [
    {
     "name": "stdout",
     "output_type": "stream",
     "text": [
      "[]\n"
     ]
    }
   ],
   "source": [
    "import open3d\n",
    "#a = open3d.io.read_point_cloud(r\"FW75735_jt.ply\")\n",
    "a = o3d.io.read_point_cloud(\"../Co-ordinate_ply_file/rabbit/bunny/data/bun000.ply\")\n",
    "\n",
    "# Visualize cloud and edit\n",
    "vis = open3d.visualization.VisualizerWithEditing()\n",
    "vis.create_window()\n",
    "vis.add_geometry(a)\n",
    "vis.run()\n",
    "# Picked point #84 (-0.00, 0.01, 0.01) to add in queue.\n",
    "# Picked point #119 (0.00, 0.00, -0.00) to add in queue.\n",
    "# Picked point #69 (-0.01, 0.02, 0.01) to add in queue.\n",
    "vis.destroy_window()\n",
    "print(vis.get_picked_points()) #[84, 119, 69]"
   ]
  },
  {
   "cell_type": "code",
   "execution_count": 12,
   "id": "96c3efd9",
   "metadata": {},
   "outputs": [
    {
     "name": "stdout",
     "output_type": "stream",
     "text": [
      "[]\n"
     ]
    }
   ],
   "source": [
    "# rotate a pointcloud in z axis\n",
    "# \n",
    "\n",
    "import open3d as o3d \n",
    "import numpy as np \n",
    "\n",
    "xyz = o3d.io.read_point_cloud(\"../Co-ordinate_ply_file/rabbit/bunny/data/bun000.ply\")\n",
    "\n",
    "#xyz = open3d.io.read_point_cloud(\"FW75735_jt.ply\")\n",
    "R = xyz.get_rotation_matrix_from_xyz((0.7 * np.pi, 0, 0.6 * np.pi))\n",
    "xyz = xyz.rotate(R, center=(0,0,0))\n",
    "\n",
    "\n",
    "vis = open3d.visualization.VisualizerWithEditing()\n",
    "vis.create_window()\n",
    "vis.add_geometry(xyz)\n",
    "vis.run()\n",
    "# Picked point #84 (-0.00, 0.01, 0.01) to add in queue.\n",
    "# Picked point #119 (0.00, 0.00, -0.00) to add in queue.\n",
    "# Picked point #69 (-0.01, 0.02, 0.01) to add in queue.\n",
    "vis.destroy_window()\n",
    "print(vis.get_picked_points()) #[84, 119, 69]"
   ]
  },
  {
   "cell_type": "code",
   "execution_count": 23,
   "id": "54323944",
   "metadata": {},
   "outputs": [
    {
     "name": "stdout",
     "output_type": "stream",
     "text": [
      "[]\n"
     ]
    }
   ],
   "source": [
    "# rotate a pointcloud in z axis\n",
    "# \n",
    "\n",
    "import open3d as o3d \n",
    "import numpy as np \n",
    "\n",
    "xyz = o3d.io.read_point_cloud(\"../Co-ordinate_ply_file/rabbit/bunny/data/bun000.ply\")\n",
    "\n",
    "#xyz = open3d.io.read_point_cloud(\"FW75735_jt.ply\")\n",
    "R = xyz.get_rotation_matrix_from_yxz((0.7 * np.pi, 0, 0.6 * np.pi))\n",
    "xyz = xyz.rotate(R, center=(0,0,0))\n",
    "\n",
    "\n",
    "vis = open3d.visualization.VisualizerWithEditing()\n",
    "vis.create_window()\n",
    "vis.add_geometry(xyz)\n",
    "vis.run()\n",
    "# Picked point #84 (-0.00, 0.01, 0.01) to add in queue.\n",
    "# Picked point #119 (0.00, 0.00, -0.00) to add in queue.\n",
    "# Picked point #69 (-0.01, 0.02, 0.01) to add in queue.\n",
    "vis.destroy_window()\n",
    "print(vis.get_picked_points()) #[84, 119, 69]"
   ]
  },
  {
   "cell_type": "code",
   "execution_count": null,
   "id": "e13e56c7",
   "metadata": {},
   "outputs": [],
   "source": []
  }
 ],
 "metadata": {
  "kernelspec": {
   "display_name": "Python 3",
   "language": "python",
   "name": "python3"
  },
  "language_info": {
   "codemirror_mode": {
    "name": "ipython",
    "version": 3
   },
   "file_extension": ".py",
   "mimetype": "text/x-python",
   "name": "python",
   "nbconvert_exporter": "python",
   "pygments_lexer": "ipython3",
   "version": "3.7.13"
  }
 },
 "nbformat": 4,
 "nbformat_minor": 5
}
